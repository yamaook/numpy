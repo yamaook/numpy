{
 "cells": [
  {
   "cell_type": "code",
   "execution_count": 1,
   "id": "3f33fcab",
   "metadata": {},
   "outputs": [
    {
     "name": "stdout",
     "output_type": "stream",
     "text": [
      "<class 'numpy.ndarray'>\n"
     ]
    }
   ],
   "source": [
    "import numpy as np\n",
    "ary = np.array([1,2,3,4,5,6])\n",
    "print(type(ary))"
   ]
  },
  {
   "cell_type": "code",
   "execution_count": 2,
   "id": "275fcdb7",
   "metadata": {},
   "outputs": [
    {
     "name": "stdout",
     "output_type": "stream",
     "text": [
      "[1 2 3 4 5 6]\n"
     ]
    }
   ],
   "source": [
    "#创建\n",
    "a = np.array([1,2,3,4,5,6])\n",
    "print(a)"
   ]
  },
  {
   "cell_type": "code",
   "execution_count": 3,
   "id": "44d2728f",
   "metadata": {},
   "outputs": [
    {
     "name": "stdout",
     "output_type": "stream",
     "text": [
      "[0 1 2 3 4]\n"
     ]
    }
   ],
   "source": [
    "b = np.arange(0,5,1)\n",
    "print(b)"
   ]
  },
  {
   "cell_type": "code",
   "execution_count": 4,
   "id": "4b2a66a7",
   "metadata": {},
   "outputs": [
    {
     "name": "stdout",
     "output_type": "stream",
     "text": [
      "[0. 0. 0. 0. 0. 0. 0. 0. 0. 0.]\n"
     ]
    }
   ],
   "source": [
    "a = np.zeros(10)\n",
    "print(a)"
   ]
  },
  {
   "cell_type": "code",
   "execution_count": 5,
   "id": "e6a8bfda",
   "metadata": {},
   "outputs": [
    {
     "name": "stdout",
     "output_type": "stream",
     "text": [
      "[1. 1. 1. 1. 1. 1. 1. 1. 1. 1.]\n"
     ]
    }
   ],
   "source": [
    "a = np.ones(10)\n",
    "print(a)"
   ]
  },
  {
   "cell_type": "code",
   "execution_count": 6,
   "id": "1732be70",
   "metadata": {},
   "outputs": [
    {
     "name": "stdout",
     "output_type": "stream",
     "text": [
      "<class 'numpy.ndarray'> [1 2 3 4 5 6] (6,)\n",
      "<class 'numpy.ndarray'> [[1 2 3 4]\n",
      " [5 6 7 8]] (2, 4)\n"
     ]
    }
   ],
   "source": [
    "#shape属性\n",
    "ary = np.array([1, 2, 3, 4, 5, 6])\n",
    "print(type(ary), ary, ary.shape)\n",
    "#二维数组\n",
    "ary = np.array([\n",
    "    [1,2,3,4],\n",
    "    [5,6,7,8]\n",
    "])\n",
    "print(type(ary), ary, ary.shape)"
   ]
  },
  {
   "cell_type": "code",
   "execution_count": 7,
   "id": "126bf3de",
   "metadata": {},
   "outputs": [
    {
     "name": "stdout",
     "output_type": "stream",
     "text": [
      "<class 'numpy.ndarray'> [1 2 3 4 5 6] int32\n",
      "<class 'numpy.ndarray'> [1. 2. 3. 4. 5. 6.] float64\n",
      "<class 'numpy.ndarray'> ['1' '2' '3' '4' '5' '6'] <U11\n"
     ]
    }
   ],
   "source": [
    "#dtype\n",
    "ary = np.array([1, 2, 3, 4, 5, 6])\n",
    "print(type(ary), ary, ary.dtype)\n",
    "#转换ary元素的类型\n",
    "b = ary.astype(float)\n",
    "print(type(b), b, b.dtype)\n",
    "#转换ary元素的类型\n",
    "c = ary.astype(str)\n",
    "print(type(c), c, c.dtype)"
   ]
  },
  {
   "cell_type": "code",
   "execution_count": 8,
   "id": "91100d55",
   "metadata": {},
   "outputs": [
    {
     "name": "stdout",
     "output_type": "stream",
     "text": [
      "(2, 4) 8 2\n"
     ]
    }
   ],
   "source": [
    "#size\n",
    "ary = np.array([\n",
    "    [1,2,3,4],\n",
    "    [5,6,7,8]\n",
    "])\n",
    "#观察维度，size，len的区别\n",
    "print(ary.shape, ary.size, len(ary))"
   ]
  },
  {
   "cell_type": "code",
   "execution_count": 9,
   "id": "9754ab5b",
   "metadata": {},
   "outputs": [
    {
     "name": "stdout",
     "output_type": "stream",
     "text": [
      "[[[1 2]\n",
      "  [3 4]]\n",
      "\n",
      " [[5 6]\n",
      "  [7 8]]] (2, 2, 2)\n"
     ]
    }
   ],
   "source": [
    "#数组元素索引\n",
    "a = np.array([[[1, 2],\n",
    "               [3, 4]],\n",
    "              [[5, 6],\n",
    "               [7, 8]]])\n",
    "print(a,a.shape)"
   ]
  },
  {
   "cell_type": "code",
   "execution_count": 10,
   "id": "411988d6",
   "metadata": {},
   "outputs": [
    {
     "name": "stdout",
     "output_type": "stream",
     "text": [
      "[[1 2]\n",
      " [3 4]]\n"
     ]
    }
   ],
   "source": [
    "print(a[0])"
   ]
  },
  {
   "cell_type": "code",
   "execution_count": 11,
   "id": "f1199a73",
   "metadata": {},
   "outputs": [
    {
     "name": "stdout",
     "output_type": "stream",
     "text": [
      "[1 2]\n"
     ]
    }
   ],
   "source": [
    "print(a[0][0])"
   ]
  },
  {
   "cell_type": "code",
   "execution_count": 12,
   "id": "eb23b3ad",
   "metadata": {},
   "outputs": [
    {
     "name": "stdout",
     "output_type": "stream",
     "text": [
      "1\n"
     ]
    }
   ],
   "source": [
    "print(a[0][0][0])"
   ]
  },
  {
   "cell_type": "code",
   "execution_count": 13,
   "id": "4d0d4b39",
   "metadata": {},
   "outputs": [
    {
     "name": "stdout",
     "output_type": "stream",
     "text": [
      "1\n"
     ]
    }
   ],
   "source": [
    "print(a[0,0,0])"
   ]
  },
  {
   "cell_type": "code",
   "execution_count": 14,
   "id": "d053b9da",
   "metadata": {},
   "outputs": [
    {
     "name": "stdout",
     "output_type": "stream",
     "text": [
      "1\n",
      "2\n",
      "3\n",
      "4\n",
      "5\n",
      "6\n",
      "7\n",
      "8\n"
     ]
    }
   ],
   "source": [
    "for i in range(a.shape[0]):\n",
    "    for j in range(a.shape[1]):\n",
    "        for k in range(a.shape[2]):\n",
    "            print(a[i,j,k])"
   ]
  },
  {
   "cell_type": "code",
   "execution_count": 15,
   "id": "2b71172e",
   "metadata": {},
   "outputs": [
    {
     "name": "stdout",
     "output_type": "stream",
     "text": [
      "[('zss', [90, 80, 85], 15) ('lss', [92, 81, 83], 16)\n",
      " ('ww', [95, 85, 95], 15)]\n",
      "zss : [92 81 83]\n",
      "[('f0', '<U3'), ('f1', '<i4', (3,)), ('f2', '<i4')]\n",
      "[92 81 83]\n"
     ]
    }
   ],
   "source": [
    "#自定义复合类型\n",
    "data=[\n",
    "    ('zssss', [90, 80, 85], 15),\n",
    "    ('lsss', [92, 81, 83], 16),\n",
    "    ('ww', [95, 85, 95], 15)\n",
    "]\n",
    "#第一种设置dtype的方式\n",
    "a = np.array(data, dtype='U3, 3int32, int32')\n",
    "print(a)\n",
    "print(a[0]['f0'], \":\", a[1]['f1'])\n",
    "print(a[0].dtype)\n",
    "print(a[1][1])"
   ]
  },
  {
   "cell_type": "code",
   "execution_count": 16,
   "id": "4316b29a",
   "metadata": {},
   "outputs": [
    {
     "name": "stdout",
     "output_type": "stream",
     "text": [
      "zs : [90 80 85]\n"
     ]
    },
    {
     "name": "stderr",
     "output_type": "stream",
     "text": [
      "C:\\Users\\40011\\AppData\\Local\\Temp\\ipykernel_23472\\3455662303.py:2: FutureWarning: Passing (type, 1) or '1type' as a synonym of type is deprecated; in a future version of numpy, it will be understood as (type, (1,)) / '(1,)type'.\n",
      "  b = np.array(data, dtype=[('name', 'str_',2),\n"
     ]
    }
   ],
   "source": [
    "#第二种设置dtype的方式\n",
    "b = np.array(data, dtype=[('name', 'str_',2),\n",
    "                    ('scores', 'int32', 3),\n",
    "                    ('age', 'int32', 1)])\n",
    "print(b[0]['name'], \":\", b[0]['scores'])"
   ]
  },
  {
   "cell_type": "code",
   "execution_count": 17,
   "id": "34677c87",
   "metadata": {},
   "outputs": [
    {
     "name": "stdout",
     "output_type": "stream",
     "text": [
      "zss : [90 80 85] : 28\n"
     ]
    }
   ],
   "source": [
    "#第三种设置dtype的方式\n",
    "c = np.array(data, dtype={'names': ['name', 'scores', 'ages'],\n",
    "                    'formats': ['U3', '3int32', 'int32']})\n",
    "print(c[0]['name'], \":\", c[0]['scores'], \":\", c.itemsize)"
   ]
  },
  {
   "cell_type": "code",
   "execution_count": 18,
   "id": "f9526ec2",
   "metadata": {},
   "outputs": [
    {
     "name": "stdout",
     "output_type": "stream",
     "text": [
      "zss [90 80 85] 28\n"
     ]
    }
   ],
   "source": [
    "#第四种设置dtype的方式  \n",
    "d = np.array(data, dtype={'name': ('U3', 0),#U3代表最多能放3个字符\n",
    "                          #字节偏移量，默认到底是不是对其不清楚，\n",
    "                    'scores': ('3int32', 12),\n",
    "                    'age': ('int32', 24)})\n",
    "print(d[0]['name'], d[0]['scores'], d.itemsize)\n",
    "                    #itemsize代表一个元素的字节数大小"
   ]
  },
  {
   "cell_type": "code",
   "execution_count": 19,
   "id": "87105987",
   "metadata": {},
   "outputs": [
    {
     "name": "stdout",
     "output_type": "stream",
     "text": [
      "['2011-01-01' '2012-01-01' '2013-01-01' '2011-02-01']\n",
      "[14975 15340 15706 15006]\n",
      "31\n"
     ]
    },
    {
     "data": {
      "text/plain": [
       "array([ True,  True,  True,  True])"
      ]
     },
     "execution_count": 19,
     "metadata": {},
     "output_type": "execute_result"
    }
   ],
   "source": [
    "#测试日期类型数组\n",
    "f = np.array(['2011', '2012-01-01', '2013-01-01 01:01:01','2011-02-01'])\n",
    "f = f.astype('M8[D]')\n",
    "print(f)\n",
    "f = f.astype('i4')\n",
    "print(f)\n",
    "print(f[3]-f[0])\n",
    "f.astype('bool')"
   ]
  },
  {
   "cell_type": "code",
   "execution_count": 20,
   "id": "d8784b89",
   "metadata": {},
   "outputs": [
    {
     "name": "stdout",
     "output_type": "stream",
     "text": [
      "[1 2 3 4 5 6 7 8]\n",
      "[[1 2 3 4]\n",
      " [5 6 7 8]]\n",
      "[[[1 2]\n",
      "  [3 4]]\n",
      "\n",
      " [[5 6]\n",
      "  [7 8]]]\n",
      "[1 2 3 4 5 6 7 8]\n"
     ]
    }
   ],
   "source": [
    "#视图变维-数据是共享的\n",
    "a = np.arange(1, 9)\n",
    "print(a)  # [1 2 3 4 5 6 7 8]\n",
    "b = a.reshape(2, 4)\t#视图变维  : 变为2行4列的二维数组\n",
    "print(b)\n",
    "c = b.reshape(2, 2, 2) #视图变维    变为2页2行2列的三维数组\n",
    "print(c)\n",
    "d = c.ravel()#视图变维 变为1维数组\n",
    "print(d)"
   ]
  },
  {
   "cell_type": "code",
   "execution_count": 21,
   "id": "9ed721c2",
   "metadata": {},
   "outputs": [
    {
     "name": "stdout",
     "output_type": "stream",
     "text": [
      "[1 2 3 4 5 6 7 8]\n",
      "[11 12 13 14 15 16 17 18]\n",
      "[1 2 3 4 5 6 7 8]\n"
     ]
    }
   ],
   "source": [
    "#复制变维-数据独立\n",
    "e = c.flatten()\n",
    "print(e)\n",
    "a += 10\n",
    "print(a, e, sep='\\n')"
   ]
  },
  {
   "cell_type": "code",
   "execution_count": 22,
   "id": "55bcf8e5",
   "metadata": {},
   "outputs": [
    {
     "name": "stdout",
     "output_type": "stream",
     "text": [
      "[[11 12 13 14]\n",
      " [15 16 17 18]]\n",
      "[[[11 12]\n",
      "  [13 14]]\n",
      "\n",
      " [[15 16]\n",
      "  [17 18]]]\n"
     ]
    }
   ],
   "source": [
    "#就地变维：直接改变原数组对象的维度，不返回新数组\n",
    "a.shape = (2, 4)\n",
    "print(a)\n",
    "a.resize(2, 2, 2)\n",
    "print(a)"
   ]
  },
  {
   "cell_type": "code",
   "execution_count": 23,
   "id": "2855dabd",
   "metadata": {},
   "outputs": [
    {
     "name": "stdout",
     "output_type": "stream",
     "text": [
      "[1 2 3 4 5 6 7 8 9]\n",
      "[1 2 3]\n",
      "[4 5 6]\n",
      "[7 8 9]\n",
      "[9 8 7 6 5 4 3 2 1]\n",
      "[9 8 7]\n",
      "[6 5 4]\n",
      "[3 2 1]\n",
      "[1 2 3 4 5 6 7 8 9]\n",
      "[1 2 3 4 5 6 7 8 9]\n",
      "[1 4 7]\n",
      "[2 5 8]\n",
      "[3 6 9]\n"
     ]
    }
   ],
   "source": [
    "#一维数组切片\n",
    "a = np.arange(1, 10)\n",
    "print(a)  # 1 2 3 4 5 6 7 8 9\n",
    "print(a[:3])  # 1 2 3\n",
    "print(a[3:6])   # 4 5 6\n",
    "print(a[6:])  # 7 8 9\n",
    "print(a[::-1])  # 9 8 7 6 5 4 3 2 1\n",
    "print(a[:-4:-1])  # 9 8 7\n",
    "print(a[-4:-7:-1])  # 6 5 4\n",
    "print(a[-7::-1])  # 3 2 1\n",
    "print(a[::])  # 1 2 3 4 5 6 7 8 9\n",
    "print(a[:])  # 1 2 3 4 5 6 7 8 9\n",
    "print(a[::3])  # 1 4 7\n",
    "print(a[1::3])  # 2 5 8\n",
    "print(a[2::3])  # 3 6 9"
   ]
  },
  {
   "cell_type": "code",
   "execution_count": 24,
   "id": "8d18c625",
   "metadata": {},
   "outputs": [
    {
     "name": "stdout",
     "output_type": "stream",
     "text": [
      "[[[ 1  2  3]\n",
      "  [ 4  5  6]\n",
      "  [ 7  8  9]]\n",
      "\n",
      " [[10 11 12]\n",
      "  [13 14 15]\n",
      "  [16 17 18]]\n",
      "\n",
      " [[19 20 21]\n",
      "  [22 23 24]\n",
      "  [25 26 27]]]\n",
      "-----------------\n",
      "[[10 11 12]\n",
      " [13 14 15]\n",
      " [16 17 18]]\n",
      "-----------------\n",
      "[[ 4  5  6]\n",
      " [13 14 15]\n",
      " [22 23 24]]\n",
      "-----------------\n",
      "[2 5 8]\n"
     ]
    }
   ],
   "source": [
    "#多维数组切片\n",
    "a = np.arange(1, 28)\n",
    "a.resize(3,3,3)\n",
    "print(a)\n",
    "print('-----------------')\n",
    "#切出1页 \n",
    "print(a[1, :, :])\n",
    "print('-----------------')\n",
    "#切出所有页的1行\n",
    "print(a[:, 1, :])\n",
    "print('-----------------')\n",
    "#切出0页的1行1列\n",
    "print(a[0, :, 1])"
   ]
  },
  {
   "cell_type": "code",
   "execution_count": 25,
   "id": "00b2fea9",
   "metadata": {},
   "outputs": [
    {
     "name": "stdout",
     "output_type": "stream",
     "text": [
      "[1 3 5 7 9]\n"
     ]
    }
   ],
   "source": [
    "#掩码操作\n",
    "a = np.arange(1, 10)\n",
    "mask = [True, False,True, False,True, False,True, False,True]\n",
    "print(a[mask])"
   ]
  },
  {
   "cell_type": "code",
   "execution_count": 26,
   "id": "8e034ef8",
   "metadata": {},
   "outputs": [
    {
     "name": "stdout",
     "output_type": "stream",
     "text": [
      "[[ 1  2  3]\n",
      " [ 4  5  6]\n",
      " [ 7  8  9]\n",
      " [10 11 12]]\n",
      "[[1 2 3]\n",
      " [4 5 6]]\n",
      "[[ 7  8  9]\n",
      " [10 11 12]]\n"
     ]
    }
   ],
   "source": [
    "#多维数组组合拆分-垂直方向\n",
    "a = np.arange(1, 7).reshape(2, 3)\n",
    "b = np.arange(7, 13).reshape(2, 3)\n",
    "# 垂直方向完成组合操作，生成新数组\n",
    "c = np.vstack((a, b))\n",
    "print(c)\n",
    "# 垂直方向完成拆分操作，生成两个数组\n",
    "d, e = np.vsplit(c, 2)\n",
    "print(d)\n",
    "print(e)"
   ]
  },
  {
   "cell_type": "code",
   "execution_count": 27,
   "id": "ac8a1810",
   "metadata": {},
   "outputs": [
    {
     "name": "stdout",
     "output_type": "stream",
     "text": [
      "[[ 1  2  3  7  8  9]\n",
      " [ 4  5  6 10 11 12]]\n",
      "[[1 2 3]\n",
      " [4 5 6]]\n",
      "[[ 7  8  9]\n",
      " [10 11 12]]\n"
     ]
    }
   ],
   "source": [
    "#多维数组组合拆分-水平方向\n",
    "a = np.arange(1, 7).reshape(2, 3)\n",
    "b = np.arange(7, 13).reshape(2, 3)\n",
    "# 水平方向完成组合操作，生成新数组 \n",
    "c = np.hstack((a, b))\n",
    "print(c)\n",
    "# 水平方向完成拆分操作，生成两个数组\n",
    "d, e = np.hsplit(c, 2)\n",
    "print(d)\n",
    "print(e)"
   ]
  },
  {
   "cell_type": "code",
   "execution_count": 28,
   "id": "76543a1c",
   "metadata": {},
   "outputs": [
    {
     "name": "stdout",
     "output_type": "stream",
     "text": [
      "[[[ 1  7]\n",
      "  [ 2  8]\n",
      "  [ 3  9]]\n",
      "\n",
      " [[ 4 10]\n",
      "  [ 5 11]\n",
      "  [ 6 12]]]\n",
      "[[[1]\n",
      "  [2]\n",
      "  [3]]\n",
      "\n",
      " [[4]\n",
      "  [5]\n",
      "  [6]]]\n",
      "[[[ 7]\n",
      "  [ 8]\n",
      "  [ 9]]\n",
      "\n",
      " [[10]\n",
      "  [11]\n",
      "  [12]]]\n"
     ]
    }
   ],
   "source": [
    "#多维数组组合拆分-深度方向\n",
    "a = np.arange(1, 7).reshape(2, 3)\n",
    "b = np.arange(7, 13).reshape(2, 3)\n",
    "# 深度方向（3维）完成组合操作，生成新数组\n",
    "i = np.dstack((a, b))\n",
    "print(i)\n",
    "# 深度方向（3维）完成拆分操作，生成两个数组\n",
    "k, l = np.dsplit(i, 2)\n",
    "print(k)\n",
    "print(l)"
   ]
  },
  {
   "cell_type": "code",
   "execution_count": 29,
   "id": "f81a1842",
   "metadata": {},
   "outputs": [
    {
     "name": "stdout",
     "output_type": "stream",
     "text": [
      "[ 1  2  3  4 -1]\n",
      "[[ 1  2  3  4  5]\n",
      " [ 1  2  3  4 -1]]\n"
     ]
    }
   ],
   "source": [
    "#长度不等的数组组合\n",
    "a = np.array([1,2,3,4,5])\n",
    "b = np.array([1,2,3,4])\n",
    "# 填充b数组使其长度与a相同\n",
    "b = np.pad(b, pad_width=(0, 1), mode='constant', constant_values=-1)\n",
    "print(b)\n",
    "# 垂直方向完成组合操作，生成新数组\n",
    "c = np.vstack((a, b))\n",
    "print(c)"
   ]
  },
  {
   "cell_type": "code",
   "execution_count": 30,
   "id": "38241b21",
   "metadata": {},
   "outputs": [
    {
     "name": "stdout",
     "output_type": "stream",
     "text": [
      "[[ 1  2  3  4  5  6  7  8]\n",
      " [ 9 10 11 12 13 14 15 16]]\n",
      "[[ 1  9]\n",
      " [ 2 10]\n",
      " [ 3 11]\n",
      " [ 4 12]\n",
      " [ 5 13]\n",
      " [ 6 14]\n",
      " [ 7 15]\n",
      " [ 8 16]]\n"
     ]
    }
   ],
   "source": [
    "#简单一维数组组合方案\n",
    "a = np.arange(1,9)#[1, 2, 3, 4, 5, 6, 7, 8]\n",
    "b = np.arange(9,17)#[9,10,11,12,13,14,15,16]\n",
    "#把两个数组摞在一起成两行\n",
    "c = np.row_stack((a, b))\n",
    "print(c)\n",
    "#把两个数组组合在一起成两列\n",
    "d = np.column_stack((a, b))\n",
    "print(d)"
   ]
  },
  {
   "cell_type": "code",
   "execution_count": 31,
   "id": "fc6bbdcd",
   "metadata": {},
   "outputs": [
    {
     "name": "stdout",
     "output_type": "stream",
     "text": [
      "(3, 3)\n",
      "complex128\n",
      "2\n",
      "9\n",
      "16\n",
      "144\n",
      "[[1. 2. 3.]\n",
      " [4. 5. 6.]\n",
      " [7. 8. 9.]]\n",
      "[[1. 4. 7.]\n",
      " [2. 5. 8.]\n",
      " [3. 6. 9.]]\n",
      "[[1.+1.j 4.+2.j 7.+3.j]\n",
      " [2.+4.j 5.+5.j 8.+6.j]\n",
      " [3.+7.j 6.+8.j 9.+9.j]]\n",
      "[(1+1j), (2+4j), (3+7j), (4+2j), (5+5j), (6+8j), (7+3j), (8+6j), (9+9j)]\n",
      "[[(1+1j), (2+4j), (3+7j)], [(4+2j), (5+5j), (6+8j)], [(7+3j), (8+6j), (9+9j)]]\n"
     ]
    }
   ],
   "source": [
    "# ndarray类的其他属性\n",
    "a = np.array([[1 + 1j, 2 + 4j, 3 + 7j],\n",
    "              [4 + 2j, 5 + 5j, 6 + 8j],\n",
    "              [7 + 3j, 8 + 6j, 9 + 9j]])\n",
    "print(a.shape)\n",
    "print(a.dtype)\n",
    "print(a.ndim)\n",
    "print(a.size)\n",
    "print(a.itemsize)\n",
    "print(a.nbytes)\n",
    "print(a.real, a.imag, sep='\\n')\n",
    "print(a.T)\n",
    "print([elem for elem in a.flat])\n",
    "b = a.tolist()\n",
    "print(b)"
   ]
  }
 ],
 "metadata": {
  "kernelspec": {
   "display_name": "Python 3 (ipykernel)",
   "language": "python",
   "name": "python3"
  },
  "language_info": {
   "codemirror_mode": {
    "name": "ipython",
    "version": 3
   },
   "file_extension": ".py",
   "mimetype": "text/x-python",
   "name": "python",
   "nbconvert_exporter": "python",
   "pygments_lexer": "ipython3",
   "version": "3.9.13"
  }
 },
 "nbformat": 4,
 "nbformat_minor": 5
}
