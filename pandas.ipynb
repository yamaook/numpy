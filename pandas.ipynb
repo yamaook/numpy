{
 "cells": [
  {
   "cell_type": "code",
   "execution_count": 1,
   "id": "59909d34",
   "metadata": {},
   "outputs": [
    {
     "name": "stderr",
     "output_type": "stream",
     "text": [
      "C:\\Users\\40011\\AppData\\Local\\Temp\\ipykernel_3792\\964388802.py:6: FutureWarning: The default dtype for empty Series will be 'object' instead of 'float64' in a future version. Specify a dtype explicitly to silence this warning.\n",
      "  s = pd.Series()\n"
     ]
    }
   ],
   "source": [
    "#创建Series\n",
    "import pandas as pd\n",
    "import numpy as np\n",
    "\n",
    "# 创建一个空的系列\n",
    "s = pd.Series()\n",
    "# 从ndarray创建一个Series\n",
    "data = np.array(['张三','李四','王五','赵柳'])\n",
    "s = pd.Series(data)\n",
    "s = pd.Series(data,index=['100','101','102','103'])\n",
    "# 从字典创建一个Series\n",
    "data = {'100' : '张三', '101' : '李四', '102' : '王五'}\n",
    "s = pd.Series(data)\n",
    "# 从标量创建一个Series\n",
    "s = pd.Series(5, index=[0, 1, 2, 3])"
   ]
  },
  {
   "cell_type": "code",
   "execution_count": 2,
   "id": "1e5cd323",
   "metadata": {},
   "outputs": [
    {
     "name": "stdout",
     "output_type": "stream",
     "text": [
      "1\n",
      "a    1\n",
      "b    2\n",
      "c    3\n",
      "dtype: int64\n",
      "c    3\n",
      "d    4\n",
      "e    5\n",
      "dtype: int64\n",
      "1\n",
      "a    1\n",
      "c    3\n",
      "d    4\n",
      "dtype: int64\n",
      "<class 'numpy.int64'>\n",
      "<class 'pandas.core.series.Series'>\n"
     ]
    }
   ],
   "source": [
    "# 访问Series中的元素\n",
    "# 使用索引检索元素\n",
    "s = pd.Series([1,2,3,4,5],index = ['a','b','c','d','e'])\n",
    "print(s[0],s[:3], s[-3:],sep='\\n')\n",
    "# 使用标签检索数据\n",
    "print(s['a'], s[['a','c','d']],sep='\\n')\n",
    "print(type(s['a']))\n",
    "print(type(s[['a','b','c']]))"
   ]
  },
  {
   "cell_type": "code",
   "execution_count": 3,
   "id": "1c58e186",
   "metadata": {},
   "outputs": [
    {
     "name": "stdout",
     "output_type": "stream",
     "text": [
      "0   2011-01-01 00:00:00\n",
      "1   2011-02-01 00:00:00\n",
      "2   2011-03-01 00:00:00\n",
      "3   2011-04-01 00:00:00\n",
      "4   2011-05-01 01:01:01\n",
      "5   2011-06-01 00:00:00\n",
      "6   2011-07-01 00:00:00\n",
      "7   2011-08-01 00:00:00\n",
      "dtype: datetime64[ns]\n",
      "datetime64[ns]\n",
      "<class 'pandas.core.series.Series'>\n",
      "0    1\n",
      "1    1\n",
      "2    1\n",
      "3    1\n",
      "4    1\n",
      "5    1\n",
      "6    1\n",
      "7    1\n",
      "dtype: int64\n"
     ]
    }
   ],
   "source": [
    "#日期类型数据处理\n",
    "# pandas识别的日期字符串格式\n",
    "dates = pd.Series(['2011', '2011-02', '2011-03-01', '2011/04/01', \n",
    "                   '2011/05/01 01:01:01', '01 Jun 2011',\n",
    "                   '20110701','2011/8/1'])\n",
    "\n",
    "\n",
    "# to_datetime() 转换日期数据类型\n",
    "dates = pd.to_datetime(dates)\n",
    "print(dates)\n",
    "print(dates.dtype)\n",
    "print(type(dates))\n",
    "# 获取时间的某个日历字段的数值\n",
    "print(dates.dt.day)"
   ]
  },
  {
   "cell_type": "code",
   "execution_count": 4,
   "id": "ef0a4ccd",
   "metadata": {},
   "outputs": [
    {
     "name": "stdout",
     "output_type": "stream",
     "text": [
      "0   14975 days 00:00:00\n",
      "1   15006 days 00:00:00\n",
      "2   15034 days 00:00:00\n",
      "3   15065 days 00:00:00\n",
      "4   15095 days 01:01:01\n",
      "5   15126 days 00:00:00\n",
      "6   15156 days 00:00:00\n",
      "7   15187 days 00:00:00\n",
      "dtype: timedelta64[ns]\n",
      "timedelta64[ns]\n",
      "<class 'pandas.core.series.Series'>\n",
      "0    14975\n",
      "1    15006\n",
      "2    15034\n",
      "3    15065\n",
      "4    15095\n",
      "5    15126\n",
      "6    15156\n",
      "7    15187\n",
      "dtype: int64\n"
     ]
    }
   ],
   "source": [
    "#日期运算\n",
    "# datetime日期运算\n",
    "delta = dates - pd.to_datetime('1970-01-01')\n",
    "print(delta, delta.dtype, type(delta),sep='\\n')\n",
    "# 把时间偏移量换算成天数\n",
    "print(delta.dt.days)"
   ]
  },
  {
   "cell_type": "code",
   "execution_count": 5,
   "id": "a7c7f28d",
   "metadata": {},
   "outputs": [
    {
     "name": "stdout",
     "output_type": "stream",
     "text": [
      "DatetimeIndex(['2019-08-21', '2019-08-22', '2019-08-23', '2019-08-24',\n",
      "               '2019-08-25'],\n",
      "              dtype='datetime64[ns]', freq='D')\n",
      "DatetimeIndex(['2019-08-31', '2019-09-30', '2019-10-31', '2019-11-30',\n",
      "               '2019-12-31'],\n",
      "              dtype='datetime64[ns]', freq='M')\n",
      "DatetimeIndex(['2017-11-01', '2017-11-02', '2017-11-03', '2017-11-04',\n",
      "               '2017-11-05'],\n",
      "              dtype='datetime64[ns]', freq='D')\n"
     ]
    },
    {
     "name": "stderr",
     "output_type": "stream",
     "text": [
      "C:\\Users\\40011\\AppData\\Local\\Temp\\ipykernel_3792\\2074496330.py:9: FutureWarning: The pandas.datetime class is deprecated and will be removed from pandas in a future version. Import from datetime module instead.\n",
      "  start = pd.datetime(2017, 11, 1)\n",
      "C:\\Users\\40011\\AppData\\Local\\Temp\\ipykernel_3792\\2074496330.py:10: FutureWarning: The pandas.datetime class is deprecated and will be removed from pandas in a future version. Import from datetime module instead.\n",
      "  end = pd.datetime(2017, 11, 5)\n"
     ]
    }
   ],
   "source": [
    "#使用date_range()函数创建日期序列\n",
    "# 以日为频率\n",
    "datelist = pd.date_range('2019/08/21', periods=5)\n",
    "print(datelist)\n",
    "# 以月为频率\n",
    "datelist = pd.date_range('2019/08/21', periods=5,freq='M')\n",
    "print(datelist)\n",
    "# 构建某个区间的时间序列\n",
    "start = pd.datetime(2017, 11, 1)\n",
    "end = pd.datetime(2017, 11, 5)\n",
    "dates = pd.date_range(start, end)\n",
    "print(dates)"
   ]
  },
  {
   "cell_type": "code",
   "execution_count": 6,
   "id": "28ad8ea7",
   "metadata": {},
   "outputs": [
    {
     "name": "stdout",
     "output_type": "stream",
     "text": [
      "DatetimeIndex(['2011-11-03', '2011-11-04', '2011-11-07', '2011-11-08',\n",
      "               '2011-11-09'],\n",
      "              dtype='datetime64[ns]', freq='B')\n"
     ]
    }
   ],
   "source": [
    "#bdate_range()用来表示商业日期范围，\n",
    "#不同于date_range()，它不包括星期六和星期天。\n",
    "datelist = pd.bdate_range('2011/11/03', periods=5)\n",
    "print(datelist)"
   ]
  },
  {
   "cell_type": "code",
   "execution_count": 7,
   "id": "dc646631",
   "metadata": {},
   "outputs": [
    {
     "name": "stdout",
     "output_type": "stream",
     "text": [
      "Empty DataFrame\n",
      "Columns: []\n",
      "Index: []\n",
      "   0\n",
      "0  1\n",
      "1  2\n",
      "2  3\n",
      "3  4\n",
      "4  5\n",
      "     Name  Age\n",
      "0    Alex   10\n",
      "1     Bob   12\n",
      "2  Clarke   13\n",
      "     Name   Age\n",
      "0    Alex  10.0\n",
      "1     Bob  12.0\n",
      "2  Clarke  13.0\n",
      "   a   b     c\n",
      "0  1   2   NaN\n",
      "1  5  10  20.0\n",
      "     Name  Age\n",
      "s1    Tom   28\n",
      "s2   Jack   34\n",
      "s3  Steve   29\n",
      "s4  Ricky   42\n",
      "   one  two\n",
      "a  1.0    1\n",
      "b  2.0    2\n",
      "c  3.0    3\n",
      "d  NaN    4\n"
     ]
    },
    {
     "name": "stderr",
     "output_type": "stream",
     "text": [
      "C:\\Users\\40011\\AppData\\Local\\Temp\\ipykernel_3792\\3938537032.py:15: FutureWarning: Could not cast to float64, falling back to object. This behavior is deprecated. In a future version, when a dtype is passed to 'DataFrame', either all columns will be cast to that dtype, or a TypeError will be raised.\n",
      "  df = pd.DataFrame(data,columns=['Name','Age'],dtype=float)\n"
     ]
    }
   ],
   "source": [
    "#DateFrame创建\n",
    "# 创建一个空的DataFrame\n",
    "df = pd.DataFrame()\n",
    "print(df)\n",
    "# 从列表创建DataFrame\n",
    "data = [1,2,3,4,5] \n",
    "df = pd.DataFrame(data)\n",
    "print(df)\n",
    "\n",
    "data = [['Alex',10],['Bob',12],['Clarke',13]]\n",
    "df = pd.DataFrame(data,columns=['Name','Age'])\n",
    "print(df)\n",
    "\n",
    "data = [['Alex',10],['Bob',12],['Clarke',13]]\n",
    "df = pd.DataFrame(data,columns=['Name','Age'],dtype=float)\n",
    "print(df)\n",
    "\n",
    "data = [{'a': 1, 'b': 2},{'a': 5, 'b': 10, 'c': 20}]\n",
    "df = pd.DataFrame(data)\n",
    "print(df)\n",
    "\n",
    "# 从字典来创建DataFrame\n",
    "data = {'Name':['Tom', 'Jack', 'Steve', 'Ricky'],'Age':[28,34,29,42]}\n",
    "df = pd.DataFrame(data, index=['s1','s2','s3','s4'])\n",
    "print(df)\n",
    "\n",
    "data = {'one' : pd.Series([1, 2, 3], index=['a', 'b', 'c']),\n",
    "        'two' : pd.Series([1, 2, 3, 4], index=['a', 'b', 'c', 'd'])}\n",
    "df = pd.DataFrame(data)\n",
    "print(df)"
   ]
  },
  {
   "cell_type": "code",
   "execution_count": 8,
   "id": "93c66be1",
   "metadata": {},
   "outputs": [
    {
     "name": "stdout",
     "output_type": "stream",
     "text": [
      "     Name  Age  score\n",
      "s1    Tom   28     90\n",
      "s2   Jack   34     80\n",
      "s3  Steve   29     70\n",
      "s4  Ricky   42     60\n",
      "[Index(['s1', 's2', 's3', 's4'], dtype='object'), Index(['Name', 'Age', 'score'], dtype='object')]\n",
      "int64\n",
      "False\n",
      "2\n",
      "12\n",
      "[['Tom' 28 90]\n",
      " ['Jack' 34 80]\n",
      " ['Steve' 29 70]\n",
      " ['Ricky' 42 60]]\n",
      "     Name  Age  score\n",
      "s1    Tom   28     90\n",
      "s2   Jack   34     80\n",
      "s3  Steve   29     70\n",
      "     Name  Age  score\n",
      "s2   Jack   34     80\n",
      "s3  Steve   29     70\n",
      "s4  Ricky   42     60\n"
     ]
    }
   ],
   "source": [
    "#DF常用属性\n",
    "data = {'Name':['Tom', 'Jack', 'Steve', 'Ricky'],'Age':[28,34,29,42]}\n",
    "df = pd.DataFrame(data, index=['s1','s2','s3','s4'])\n",
    "df['score']=pd.Series([90, 80, 70, 60], index=['s1','s2','s3','s4'])\n",
    "print(df)\n",
    "print(df.axes)\n",
    "print(df['Age'].dtype)\n",
    "print(df.empty)   \n",
    "print(df.ndim)\n",
    "print(df.size)\n",
    "print(df.values)\n",
    "print(df.head(3)) # df的前三行\n",
    "print(df.tail(3)) # df的后三行"
   ]
  },
  {
   "cell_type": "code",
   "execution_count": 9,
   "id": "f88d102a",
   "metadata": {},
   "outputs": [
    {
     "name": "stdout",
     "output_type": "stream",
     "text": [
      "   one  two  three\n",
      "a  1.0    1    1.0\n",
      "b  2.0    2    NaN\n",
      "c  3.0    3    3.0\n",
      "d  NaN    4    4.0\n",
      "a    1.0\n",
      "b    2.0\n",
      "c    3.0\n",
      "d    NaN\n",
      "Name: one, dtype: float64\n"
     ]
    },
    {
     "data": {
      "text/html": [
       "<div>\n",
       "<style scoped>\n",
       "    .dataframe tbody tr th:only-of-type {\n",
       "        vertical-align: middle;\n",
       "    }\n",
       "\n",
       "    .dataframe tbody tr th {\n",
       "        vertical-align: top;\n",
       "    }\n",
       "\n",
       "    .dataframe thead th {\n",
       "        text-align: right;\n",
       "    }\n",
       "</style>\n",
       "<table border=\"1\" class=\"dataframe\">\n",
       "  <thead>\n",
       "    <tr style=\"text-align: right;\">\n",
       "      <th></th>\n",
       "      <th>one</th>\n",
       "      <th>two</th>\n",
       "    </tr>\n",
       "  </thead>\n",
       "  <tbody>\n",
       "    <tr>\n",
       "      <th>a</th>\n",
       "      <td>1.0</td>\n",
       "      <td>1</td>\n",
       "    </tr>\n",
       "    <tr>\n",
       "      <th>b</th>\n",
       "      <td>2.0</td>\n",
       "      <td>2</td>\n",
       "    </tr>\n",
       "    <tr>\n",
       "      <th>c</th>\n",
       "      <td>3.0</td>\n",
       "      <td>3</td>\n",
       "    </tr>\n",
       "    <tr>\n",
       "      <th>d</th>\n",
       "      <td>NaN</td>\n",
       "      <td>4</td>\n",
       "    </tr>\n",
       "  </tbody>\n",
       "</table>\n",
       "</div>"
      ],
      "text/plain": [
       "   one  two\n",
       "a  1.0    1\n",
       "b  2.0    2\n",
       "c  3.0    3\n",
       "d  NaN    4"
      ]
     },
     "execution_count": 9,
     "metadata": {},
     "output_type": "execute_result"
    }
   ],
   "source": [
    "#列访问\n",
    "d = {'one' : pd.Series([1, 2, 3], index=['a', 'b', 'c']),\n",
    "     'two' : pd.Series([1, 2, 3, 4], index=['a', 'b', 'c', 'd']), \n",
    "     'three' : pd.Series([1, 3, 4], index=['a', 'c', 'd'])}\n",
    "\n",
    "df = pd.DataFrame(d)\n",
    "print(df)\n",
    "print(df['one'])\n",
    "df[df.columns[:2]]"
   ]
  },
  {
   "cell_type": "code",
   "execution_count": 10,
   "id": "16ad58dd",
   "metadata": {},
   "outputs": [
    {
     "name": "stdout",
     "output_type": "stream",
     "text": [
      "   one  two  three  four\n",
      "a  1.0    1    1.0    90\n",
      "b  2.0    2    NaN    80\n",
      "c  3.0    3    3.0    70\n",
      "d  NaN    4    4.0    60\n"
     ]
    }
   ],
   "source": [
    "#列添加\n",
    "df['four']=pd.Series([90, 80, 70, 60], index=['a', 'b', 'c', 'd'])\n",
    "print(df)"
   ]
  },
  {
   "cell_type": "code",
   "execution_count": 11,
   "id": "2539257e",
   "metadata": {},
   "outputs": [
    {
     "name": "stdout",
     "output_type": "stream",
     "text": [
      "dataframe is:\n",
      "   one  two  three\n",
      "a  1.0    1   10.0\n",
      "b  2.0    2   20.0\n",
      "c  3.0    3   30.0\n",
      "d  NaN    4    NaN\n",
      "   two  three\n",
      "a    1   10.0\n",
      "b    2   20.0\n",
      "c    3   30.0\n",
      "d    4    NaN\n",
      "   three\n",
      "a   10.0\n",
      "b   20.0\n",
      "c   30.0\n",
      "d    NaN\n",
      "   two  three\n",
      "a    1    1.0\n",
      "b    2    NaN\n",
      "c    3    3.0\n",
      "d    4    4.0\n"
     ]
    }
   ],
   "source": [
    "#列删除\n",
    "d = {'one' : pd.Series([1, 2, 3], index=['a', 'b', 'c']), \n",
    "     'two' : pd.Series([1, 2, 3, 4], index=['a', 'b', 'c', 'd']), \n",
    "     'three' : pd.Series([10, 20, 30], index=['a', 'b', 'c'])}\n",
    "df1 = pd.DataFrame(d)\n",
    "print(\"dataframe is:\")\n",
    "print(df1)\n",
    "\n",
    "# 删除一列： one\n",
    "del(df1['one'])\n",
    "print(df1)\n",
    "\n",
    "#调用pop方法删除一列\n",
    "df1.pop('two')\n",
    "print(df1)\n",
    "\n",
    "\n",
    "#如果想要删除多列呢？\n",
    "#删除多列  drop 轴向axis=1是必须给的    默认axis=0删除行的 ,不会修改原数据\n",
    "# inplace=False  不修改原数据\n",
    "df2 = df.drop(['one','four'],axis=1)\n",
    "print(df2)"
   ]
  },
  {
   "cell_type": "code",
   "execution_count": 12,
   "id": "d72e06a9",
   "metadata": {},
   "outputs": [
    {
     "name": "stdout",
     "output_type": "stream",
     "text": [
      "   one  two\n",
      "a  1.0    1\n",
      "b  2.0    2\n",
      "c  3.0    3\n",
      "d  NaN    4\n",
      "   one  two\n",
      "c  3.0    3\n",
      "d  NaN    4\n"
     ]
    }
   ],
   "source": [
    "#行访问\n",
    "d = {'one' : pd.Series([1, 2, 3], index=['a', 'b', 'c']), \n",
    "    'two' : pd.Series([1, 2, 3, 4], index=['a', 'b', 'c', 'd'])}\n",
    "df = pd.DataFrame(d)\n",
    "print(df)\n",
    "print(df[2:4])#直接行切片"
   ]
  },
  {
   "cell_type": "code",
   "execution_count": 13,
   "id": "99520b9b",
   "metadata": {},
   "outputs": [
    {
     "name": "stdout",
     "output_type": "stream",
     "text": [
      "   one  two\n",
      "a    1    1\n",
      "b    2    2\n",
      "c    3    3\n",
      "d  NaN    4\n",
      "one    2\n",
      "two    2\n",
      "Name: b, dtype: object\n",
      "<class 'pandas.core.series.Series'>\n",
      "  one  two\n",
      "a   1    1\n",
      "b   2    2\n"
     ]
    }
   ],
   "source": [
    "#loc只支持索引名称，不支持索引位置\n",
    "d = {'one' : pd.Series(['1', 2, 3], index=['a', 'b', 'c']), \n",
    "     'two' : pd.Series([1, 2, 3, 4], index=['a', 'b', 'c', 'd'])}\n",
    "\n",
    "df = pd.DataFrame(d)\n",
    "print(df)\n",
    "print(df.loc['b'],type(df.loc['a']),sep='\\n')#series\n",
    "print(df.loc[['a', 'b']])#dataframe"
   ]
  },
  {
   "cell_type": "code",
   "execution_count": 14,
   "id": "342693fe",
   "metadata": {},
   "outputs": [
    {
     "name": "stdout",
     "output_type": "stream",
     "text": [
      "one    3.0\n",
      "two    3.0\n",
      "Name: c, dtype: float64\n",
      "   one  two\n",
      "c  3.0    3\n",
      "d  NaN    4\n"
     ]
    }
   ],
   "source": [
    "#iloc接收的必须是行索引和列索引的位置\n",
    "d = {'one' : pd.Series([1, 2, 3], index=['a', 'b', 'c']),\n",
    "     'two' : pd.Series([1, 2, 3, 4], index=['a', 'b', 'c', 'd'])}\n",
    "\n",
    "df = pd.DataFrame(d)\n",
    "print(df.iloc[2])\n",
    "print(df.iloc[[2, 3]])"
   ]
  },
  {
   "cell_type": "code",
   "execution_count": 15,
   "id": "547f5ecd",
   "metadata": {},
   "outputs": [
    {
     "name": "stdout",
     "output_type": "stream",
     "text": [
      "  Name  Age\n",
      "0   zs   12\n",
      "1   ls    4\n",
      "0   ww   16\n",
      "1   zl    8\n"
     ]
    },
    {
     "name": "stderr",
     "output_type": "stream",
     "text": [
      "C:\\Users\\40011\\AppData\\Local\\Temp\\ipykernel_3792\\3333292829.py:5: FutureWarning: The frame.append method is deprecated and will be removed from pandas in a future version. Use pandas.concat instead.\n",
      "  df = df.append(df2)\n"
     ]
    }
   ],
   "source": [
    "#行添加\n",
    "df = pd.DataFrame([['zs', 12], ['ls', 4]], columns = ['Name','Age'])\n",
    "df2 = pd.DataFrame([['ww', 16], ['zl', 8]], columns = ['Name','Age'])\n",
    "\n",
    "df = df.append(df2)\n",
    "print(df)"
   ]
  },
  {
   "cell_type": "code",
   "execution_count": 16,
   "id": "e858c3d3",
   "metadata": {},
   "outputs": [
    {
     "name": "stdout",
     "output_type": "stream",
     "text": [
      "  Name  Age\n",
      "0   zs   12\n",
      "1   ls    4\n",
      "0   ww   16\n",
      "1   zl    8\n",
      "  Name  Age\n",
      "1   ls    4\n",
      "1   zl    8\n"
     ]
    },
    {
     "name": "stderr",
     "output_type": "stream",
     "text": [
      "C:\\Users\\40011\\AppData\\Local\\Temp\\ipykernel_3792\\2020705555.py:4: FutureWarning: The frame.append method is deprecated and will be removed from pandas in a future version. Use pandas.concat instead.\n",
      "  df = df.append(df2)\n"
     ]
    }
   ],
   "source": [
    "#行删除\n",
    "df = pd.DataFrame([['zs', 12], ['ls', 4]], columns = ['Name','Age'])\n",
    "df2 = pd.DataFrame([['ww', 16], ['zl', 8]], columns = ['Name','Age'])\n",
    "df = df.append(df2)\n",
    "print(df)\n",
    "# 删除index为0的行\n",
    "df = df.drop(0)\n",
    "print(df)"
   ]
  },
  {
   "cell_type": "code",
   "execution_count": 17,
   "id": "da9b1660",
   "metadata": {},
   "outputs": [
    {
     "name": "stdout",
     "output_type": "stream",
     "text": [
      "  Name  Age\n",
      "0   zs   12\n",
      "1   ls    4\n",
      "0   ww   16\n",
      "1   zl    8\n",
      "  Name  Age\n",
      "0  Tom   12\n",
      "1   ls    4\n",
      "0  Tom   16\n",
      "1   zl    8\n",
      "12\n"
     ]
    },
    {
     "name": "stderr",
     "output_type": "stream",
     "text": [
      "C:\\Users\\40011\\AppData\\Local\\Temp\\ipykernel_3792\\4170595838.py:5: FutureWarning: The frame.append method is deprecated and will be removed from pandas in a future version. Use pandas.concat instead.\n",
      "  df = df.append(df2)\n",
      "C:\\Users\\40011\\AppData\\Local\\Temp\\ipykernel_3792\\4170595838.py:7: SettingWithCopyWarning: \n",
      "A value is trying to be set on a copy of a slice from a DataFrame\n",
      "\n",
      "See the caveats in the documentation: https://pandas.pydata.org/pandas-docs/stable/user_guide/indexing.html#returning-a-view-versus-a-copy\n",
      "  df['Name'][0] = 'Tom'\n"
     ]
    }
   ],
   "source": [
    "#访问数据、修改数据dataframe\n",
    "\n",
    "df = pd.DataFrame([['zs', 12], ['ls', 4]], columns = ['Name','Age'])\n",
    "df2 = pd.DataFrame([['ww', 16], ['zl', 8]], columns = ['Name','Age'])\n",
    "df = df.append(df2)\n",
    "print(df)\n",
    "df['Name'][0] = 'Tom'\n",
    "print(df)\n",
    "print(df.iloc[0]['Age'])"
   ]
  },
  {
   "cell_type": "code",
   "execution_count": 18,
   "id": "7a26891b",
   "metadata": {},
   "outputs": [
    {
     "name": "stdout",
     "output_type": "stream",
     "text": [
      "      0     1     2\n",
      "0  80.0  83.0  82.0\n",
      "1  80.0  80.0  86.0\n",
      "2  84.0  80.0  87.0\n",
      "3  84.0  85.0  83.0\n",
      "4  89.0  84.0  84.0\n",
      "5  87.0  85.0  84.0\n",
      "           Age            \n",
      "           20+   30+   40+\n",
      "classA F  80.0  83.0  82.0\n",
      "       M  80.0  80.0  86.0\n",
      "classB F  84.0  80.0  87.0\n",
      "       M  84.0  85.0  83.0\n",
      "classC F  89.0  84.0  84.0\n",
      "       M  87.0  85.0  84.0\n"
     ]
    }
   ],
   "source": [
    "#复合索引\n",
    "data = np.floor(np.random.normal(85, 3, (6,3)))\n",
    "df = pd.DataFrame(data)\n",
    "print(df)\n",
    "index = [('classA', 'F'), ('classA', 'M'), ('classB', 'F'), ('classB', 'M'), ('classC', 'F'), ('classC', 'M')]\n",
    "\n",
    "df.index = pd.MultiIndex.from_tuples(index)\n",
    "columns = [('Age', '20+'), ('Age', '30+'), ('Age', '40+')]\n",
    "df.columns = pd.MultiIndex.from_tuples(columns)\n",
    "print(df)"
   ]
  },
  {
   "cell_type": "code",
   "execution_count": 19,
   "id": "da79d9ec",
   "metadata": {},
   "outputs": [
    {
     "name": "stdout",
     "output_type": "stream",
     "text": [
      "    Age            \n",
      "    20+   30+   40+\n",
      "F  80.0  83.0  82.0\n",
      "M  80.0  80.0  86.0\n",
      "Age  20+    80.0\n",
      "     30+    83.0\n",
      "     40+    82.0\n",
      "Name: (classA, F), dtype: float64\n",
      "           Age            \n",
      "           20+   30+   40+\n",
      "classA F  80.0  83.0  82.0\n",
      "       M  80.0  80.0  86.0\n",
      "classC F  89.0  84.0  84.0\n",
      "       M  87.0  85.0  84.0\n",
      "           20+   30+   40+\n",
      "classA F  80.0  83.0  82.0\n",
      "       M  80.0  80.0  86.0\n",
      "classB F  84.0  80.0  87.0\n",
      "       M  84.0  85.0  83.0\n",
      "classC F  89.0  84.0  84.0\n",
      "       M  87.0  85.0  84.0\n",
      "classA  F    80.0\n",
      "        M    80.0\n",
      "classB  F    84.0\n",
      "        M    84.0\n",
      "classC  F    89.0\n",
      "        M    87.0\n",
      "Name: 20+, dtype: float64\n",
      "           20+   30+   40+\n",
      "classA F  80.0  83.0  82.0\n",
      "       M  80.0  80.0  86.0\n",
      "classB F  84.0  80.0  87.0\n",
      "       M  84.0  85.0  83.0\n",
      "classC F  89.0  84.0  84.0\n",
      "       M  87.0  85.0  84.0\n",
      "classA  F    80.0\n",
      "        M    80.0\n",
      "classB  F    84.0\n",
      "        M    84.0\n",
      "classC  F    89.0\n",
      "        M    87.0\n",
      "Name: (Age, 20+), dtype: float64\n"
     ]
    }
   ],
   "source": [
    "#复合索引访问\n",
    "# 访问行\n",
    "print(df.loc['classA'])\n",
    "print(df.loc['classA', 'F'])\n",
    "print(df.loc[['classA', 'classC']])\n",
    "\n",
    "# 访问列\n",
    "print(df.Age)\n",
    "print(df.Age['20+'])\n",
    "print(df['Age'])\n",
    "print(df['Age', '20+'])"
   ]
  },
  {
   "cell_type": "code",
   "execution_count": 20,
   "id": "d7fdcd49",
   "metadata": {},
   "outputs": [
    {
     "data": {
      "text/html": [
       "<div>\n",
       "<style scoped>\n",
       "    .dataframe tbody tr th:only-of-type {\n",
       "        vertical-align: middle;\n",
       "    }\n",
       "\n",
       "    .dataframe tbody tr th {\n",
       "        vertical-align: top;\n",
       "    }\n",
       "\n",
       "    .dataframe thead th {\n",
       "        text-align: right;\n",
       "    }\n",
       "</style>\n",
       "<table border=\"1\" class=\"dataframe\">\n",
       "  <thead>\n",
       "    <tr style=\"text-align: right;\">\n",
       "      <th></th>\n",
       "      <th>1</th>\n",
       "      <th>2</th>\n",
       "      <th>3</th>\n",
       "      <th>4</th>\n",
       "      <th>5</th>\n",
       "      <th>6</th>\n",
       "      <th>7</th>\n",
       "      <th>8</th>\n",
       "      <th>9</th>\n",
       "    </tr>\n",
       "    <tr>\n",
       "      <th>0</th>\n",
       "      <th></th>\n",
       "      <th></th>\n",
       "      <th></th>\n",
       "      <th></th>\n",
       "      <th></th>\n",
       "      <th></th>\n",
       "      <th></th>\n",
       "      <th></th>\n",
       "      <th></th>\n",
       "    </tr>\n",
       "  </thead>\n",
       "  <tbody>\n",
       "    <tr>\n",
       "      <th>1</th>\n",
       "      <td>1</td>\n",
       "      <td>792.83</td>\n",
       "      <td>-10.45</td>\n",
       "      <td>0</td>\n",
       "      <td>0</td>\n",
       "      <td>0</td>\n",
       "      <td>0</td>\n",
       "      <td>25</td>\n",
       "      <td>0</td>\n",
       "    </tr>\n",
       "    <tr>\n",
       "      <th>2</th>\n",
       "      <td>1</td>\n",
       "      <td>121.67</td>\n",
       "      <td>-21.14</td>\n",
       "      <td>0</td>\n",
       "      <td>0</td>\n",
       "      <td>0</td>\n",
       "      <td>0</td>\n",
       "      <td>25</td>\n",
       "      <td>0</td>\n",
       "    </tr>\n",
       "    <tr>\n",
       "      <th>3</th>\n",
       "      <td>1</td>\n",
       "      <td>-30.00</td>\n",
       "      <td>-25.66</td>\n",
       "      <td>0</td>\n",
       "      <td>0</td>\n",
       "      <td>0</td>\n",
       "      <td>0</td>\n",
       "      <td>2</td>\n",
       "      <td>1</td>\n",
       "    </tr>\n",
       "    <tr>\n",
       "      <th>4</th>\n",
       "      <td>1</td>\n",
       "      <td>241.50</td>\n",
       "      <td>-288.34</td>\n",
       "      <td>0</td>\n",
       "      <td>1</td>\n",
       "      <td>0</td>\n",
       "      <td>1</td>\n",
       "      <td>25</td>\n",
       "      <td>0</td>\n",
       "    </tr>\n",
       "    <tr>\n",
       "      <th>5</th>\n",
       "      <td>1</td>\n",
       "      <td>1629.67</td>\n",
       "      <td>-23.66</td>\n",
       "      <td>0</td>\n",
       "      <td>0</td>\n",
       "      <td>0</td>\n",
       "      <td>1</td>\n",
       "      <td>25</td>\n",
       "      <td>0</td>\n",
       "    </tr>\n",
       "  </tbody>\n",
       "</table>\n",
       "</div>"
      ],
      "text/plain": [
       "   1        2       3  4  5  6  7   8  9\n",
       "0                                       \n",
       "1  1   792.83  -10.45  0  0  0  0  25  0\n",
       "2  1   121.67  -21.14  0  0  0  0  25  0\n",
       "3  1   -30.00  -25.66  0  0  0  0   2  1\n",
       "4  1   241.50 -288.34  0  1  0  1  25  0\n",
       "5  1  1629.67  -23.66  0  0  0  1  25  0"
      ]
     },
     "execution_count": 20,
     "metadata": {},
     "output_type": "execute_result"
    }
   ],
   "source": [
    "#数据加载\n",
    "#处理普通文本\n",
    "#读取文本：read_csv()\n",
    "#csv文件 逗号分隔符文件 数据与数据之间使用逗号分隔\n",
    "df = pd.read_csv('CustomerSurvival.csv', header=None, index_col=0)\n",
    "df.head()"
   ]
  },
  {
   "cell_type": "code",
   "execution_count": 21,
   "id": "a5d73779",
   "metadata": {},
   "outputs": [
    {
     "name": "stdout",
     "output_type": "stream",
     "text": [
      "                  John Carson  Michelle Peterson  William Reynolds  \\\n",
      "Inception                 2.5                3.0               2.5   \n",
      "Pulp Fiction              3.5                3.5               3.0   \n",
      "Anger Management          3.0                1.5               NaN   \n",
      "Fracture                  3.5                5.0               3.5   \n",
      "Serendipity               2.5                3.5               NaN   \n",
      "Jerry Maguire             3.0                3.0               4.0   \n",
      "\n",
      "                  Jillian Hobart  Melissa Jones  Alex Roberts  Michael Henry  \n",
      "Inception                    NaN              3           3.0            NaN  \n",
      "Pulp Fiction                 3.5              4           4.0            4.5  \n",
      "Anger Management             3.0              2           NaN            NaN  \n",
      "Fracture                     4.0              3           5.0            4.0  \n",
      "Serendipity                  2.5              2           3.5            1.0  \n",
      "Jerry Maguire                4.5              3           3.0            NaN  \n"
     ]
    }
   ],
   "source": [
    "#读取json\n",
    "ratings = pd.read_json('./data_test/ratings.json')\n",
    "print(ratings)"
   ]
  },
  {
   "cell_type": "code",
   "execution_count": 22,
   "id": "d5ca87c2",
   "metadata": {},
   "outputs": [
    {
     "name": "stdout",
     "output_type": "stream",
     "text": [
      "     Name  Age\n",
      "s1    Tom   28\n",
      "s2   Jack   34\n",
      "s3  Steve   29\n",
      "s4  Ricky   42\n"
     ]
    }
   ],
   "source": [
    "#写入json\n",
    "data = {'Name':['Tom', 'Jack', 'Steve', 'Ricky'],'Age':[28,34,29,42]}\n",
    "df = pd.DataFrame(data, index=['s1','s2','s3','s4'])\n",
    "print(df)\n",
    "df.to_json('test.json',orient='records')"
   ]
  },
  {
   "cell_type": "code",
   "execution_count": 23,
   "id": "75d62699",
   "metadata": {},
   "outputs": [
    {
     "name": "stdout",
     "output_type": "stream",
     "text": [
      "3.0\n"
     ]
    },
    {
     "data": {
      "text/plain": [
       "Inception           2.800000\n",
       "Pulp Fiction        3.714286\n",
       "Anger Management    2.375000\n",
       "Fracture            4.000000\n",
       "Serendipity         2.500000\n",
       "Jerry Maguire       3.416667\n",
       "dtype: float64"
      ]
     },
     "execution_count": 23,
     "metadata": {},
     "output_type": "execute_result"
    }
   ],
   "source": [
    "#数值统计\n",
    "#算数平均值\n",
    "mean = ratings['John Carson'].mean()\n",
    "print(np.mean(ratings['John Carson']))\n",
    "ratings.mean(axis=1)"
   ]
  },
  {
   "cell_type": "code",
   "execution_count": 28,
   "id": "6c972084",
   "metadata": {},
   "outputs": [
    {
     "name": "stdout",
     "output_type": "stream",
     "text": [
      "nan\n",
      "2.7142857142857144\n"
     ]
    }
   ],
   "source": [
    "#加权平均值\n",
    "w = np.array([3,1,1,1,1,1,1])\n",
    "print(np.average(ratings.loc['Inception'], weights=w))\n",
    "\n",
    "mask = ~pd.isna(ratings.loc['Inception']) \n",
    "print(np.average(ratings.loc['Inception'][mask], weights=w[mask]))"
   ]
  },
  {
   "cell_type": "code",
   "execution_count": 29,
   "id": "051a1f6f",
   "metadata": {},
   "outputs": [
    {
     "name": "stdout",
     "output_type": "stream",
     "text": [
      "[30 16 14 89 64 62 67 55 10]\n",
      "89 10 79\n"
     ]
    }
   ],
   "source": [
    "#最值\n",
    "# 产生9个介于[10, 100)区间的随机数\n",
    "a = np.random.randint(10, 100, 9)\n",
    "print(a)\n",
    "print(np.max(a), np.min(a), np.ptp(a))"
   ]
  },
  {
   "cell_type": "code",
   "execution_count": 32,
   "id": "fb5a13b8",
   "metadata": {},
   "outputs": [
    {
     "name": "stdout",
     "output_type": "stream",
     "text": [
      "3 8\n"
     ]
    }
   ],
   "source": [
    "#在np中，使用argmax获取到最大值的下标\n",
    "print(np.argmax(a), np.argmin(a))\n",
    "\n",
    "#在pandas中，使用idxmax获取到最大值的下标\n",
    "# print(series.idxmax(), series.idxmin())\n",
    "# print(dataframe.idxmax(), dataframe.idxmin())"
   ]
  },
  {
   "cell_type": "code",
   "execution_count": 36,
   "id": "38e7df4b",
   "metadata": {},
   "outputs": [
    {
     "name": "stdout",
     "output_type": "stream",
     "text": [
      "[336.1  339.32 345.03 344.32 343.44 346.5  351.88 355.2  358.16 354.54\n",
      " 356.85 359.18 359.9  363.13 358.3  350.56 338.61 342.62 342.88 348.16\n",
      " 353.21 349.31 352.12 359.56 360.   355.36 355.76 352.47 346.67 351.99]\n",
      "[336.1  338.61 339.32 342.62 342.88 343.44 344.32 345.03 346.5  346.67\n",
      " 348.16 349.31 350.56 351.88 351.99 352.12 352.47 353.21 354.54 355.2\n",
      " 355.36 355.76 356.85 358.16 358.3  359.18 359.56 359.9  360.   363.13]\n",
      "352.055\n",
      "352.055\n"
     ]
    }
   ],
   "source": [
    "#中位数\n",
    "closing_prices = np.loadtxt('./data_test/aapl.csv', delimiter=',', usecols=(6), unpack=True)\n",
    "size = closing_prices.size\n",
    "print(closing_prices)\n",
    "sorted_prices = np.msort(closing_prices)\n",
    "print(sorted_prices)\n",
    "median = (sorted_prices[int((size - 1) / 2)] + \n",
    "          sorted_prices[int(size / 2)]) / 2\n",
    "print(median)\n",
    "median = np.median(closing_prices)\n",
    "print(median)"
   ]
  },
  {
   "cell_type": "code",
   "execution_count": 37,
   "id": "6499d586",
   "metadata": {},
   "outputs": [
    {
     "data": {
      "text/plain": [
       "John Carson          0.447214\n",
       "Michelle Peterson    1.129159\n",
       "William Reynolds     0.645497\n",
       "Jillian Hobart       0.790569\n",
       "Melissa Jones        0.752773\n",
       "Alex Roberts         0.836660\n",
       "Michael Henry        1.892969\n",
       "dtype: float64"
      ]
     },
     "execution_count": 37,
     "metadata": {},
     "output_type": "execute_result"
    }
   ],
   "source": [
    "#标准差\n",
    "ratings.std(axis=0)"
   ]
  }
 ],
 "metadata": {
  "kernelspec": {
   "display_name": "Python 3 (ipykernel)",
   "language": "python",
   "name": "python3"
  },
  "language_info": {
   "codemirror_mode": {
    "name": "ipython",
    "version": 3
   },
   "file_extension": ".py",
   "mimetype": "text/x-python",
   "name": "python",
   "nbconvert_exporter": "python",
   "pygments_lexer": "ipython3",
   "version": "3.9.13"
  }
 },
 "nbformat": 4,
 "nbformat_minor": 5
}
